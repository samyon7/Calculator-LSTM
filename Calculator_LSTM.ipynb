{
  "cells": [
    {
      "cell_type": "code",
      "execution_count": null,
      "metadata": {
        "colab": {
          "base_uri": "https://localhost:8080/"
        },
        "id": "wrIAUHa1Phjf",
        "outputId": "b7786a5d-cb94-46cc-a1e8-8b7825c61494"
      },
      "outputs": [
        {
          "name": "stdout",
          "output_type": "stream",
          "text": [
            "1\n"
          ]
        }
      ],
      "source": [
        "print(1)"
      ]
    },
    {
      "cell_type": "code",
      "execution_count": null,
      "metadata": {
        "id": "zXyMS0Hfbugb"
      },
      "outputs": [],
      "source": [
        "import random\n",
        "\n",
        "def generate_expression():\n",
        "    operators = ['+', '-', '*', '/']\n",
        "    expression = str(random.randint(1, 100))\n",
        "    for _ in range(random.randint(0, 50)):\n",
        "        operator = random.choice(operators)\n",
        "        operand = str(random.randint(1, 100))\n",
        "        expression += ' ' + operator + ' ' + operand\n",
        "    return expression\n",
        "\n",
        "def generate_dataset(num_samples=100000):\n",
        "    data = []\n",
        "    for _ in range(num_samples):\n",
        "        expr = generate_expression()\n",
        "        try:\n",
        "            result = eval(expr)\n",
        "            data.append((expr, result))\n",
        "        except ZeroDivisionError:\n",
        "            continue  # Skip expressions with division by zero\n",
        "    return data\n",
        "\n",
        "dataset = generate_dataset()"
      ]
    },
    {
      "cell_type": "code",
      "execution_count": null,
      "metadata": {
        "id": "0hNUKtPteWf6"
      },
      "outputs": [],
      "source": [
        "import torch"
      ]
    },
    {
      "cell_type": "code",
      "execution_count": null,
      "metadata": {
        "id": "Xy9q8Vm-eFTq"
      },
      "outputs": [],
      "source": [
        "device = torch.device(\"cuda\" if torch.cuda.is_available() else \"cpu\")"
      ]
    },
    {
      "cell_type": "code",
      "execution_count": null,
      "metadata": {
        "colab": {
          "base_uri": "https://localhost:8080/"
        },
        "id": "h4fT0oPxbyux",
        "outputId": "255c73ec-b381-4726-ee8b-ce0798f457fa"
      },
      "outputs": [
        {
          "name": "stdout",
          "output_type": "stream",
          "text": [
            "Vocabulary size: 104\n",
            "Max sequence length: 101\n"
          ]
        }
      ],
      "source": [
        "from collections import defaultdict\n",
        "import numpy as np\n",
        "\n",
        "# Create vocabulary\n",
        "vocab = defaultdict(lambda: len(vocab))\n",
        "for expr, _ in dataset:\n",
        "    for token in expr.split():\n",
        "        vocab[token]\n",
        "\n",
        "vocab_size = len(vocab)\n",
        "print(f'Vocabulary size: {vocab_size}')\n",
        "\n",
        "# Convert expressions to sequences of integers\n",
        "def tokenize(expr):\n",
        "    return [vocab[token] for token in expr.split()]\n",
        "\n",
        "# Pad sequences\n",
        "def pad_sequence(seq, max_len):\n",
        "    return seq + [0] * (max_len - len(seq))\n",
        "\n",
        "max_seq_length = max(len(expr.split()) for expr, _ in dataset)\n",
        "print(f'Max sequence length: {max_seq_length}')\n",
        "\n",
        "# Prepare data\n",
        "X = [tokenize(expr) for expr, _ in dataset]\n",
        "X_padded = [pad_sequence(seq, max_seq_length) for seq in X]\n",
        "y = [result for _, result in dataset]\n",
        "\n",
        "X_padded = np.array(X_padded)\n",
        "y = np.array(y)"
      ]
    },
    {
      "cell_type": "code",
      "execution_count": null,
      "metadata": {
        "id": "cfXC7k2rb7CQ"
      },
      "outputs": [],
      "source": [
        "import torch\n",
        "import torch.nn as nn\n",
        "\n",
        "class CalculatorLSTM(nn.Module):\n",
        "    def __init__(self, vocab_size, embedding_dim, hidden_dim, output_dim):\n",
        "        super(CalculatorLSTM, self).__init__()\n",
        "        self.embedding = nn.Embedding(vocab_size, embedding_dim)\n",
        "        self.lstm = nn.LSTM(embedding_dim, hidden_dim, batch_first=True)\n",
        "        self.fc = nn.Linear(hidden_dim, output_dim)\n",
        "\n",
        "    def forward(self, x):\n",
        "        embedded = self.embedding(x)\n",
        "        lstm_out, _ = self.lstm(embedded)\n",
        "        output = self.fc(lstm_out[:, -1, :])  # Take the last time step\n",
        "        return output"
      ]
    },
    {
      "cell_type": "code",
      "execution_count": null,
      "metadata": {
        "id": "M6SZa8kZcBWC"
      },
      "outputs": [],
      "source": [
        "from sklearn.model_selection import train_test_split\n",
        "\n",
        "X_train, X_val, y_train, y_val = train_test_split(X_padded, y, test_size=0.2, random_state=42)\n",
        "\n",
        "X_train_tensor = torch.tensor(X_train, dtype=torch.long).to(device)\n",
        "y_train_tensor = torch.tensor(y_train, dtype=torch.float32).to(device)\n",
        "X_val_tensor = torch.tensor(X_val, dtype=torch.long).to(device)\n",
        "y_val_tensor = torch.tensor(y_val, dtype=torch.float32).to(device)"
      ]
    },
    {
      "cell_type": "code",
      "execution_count": null,
      "metadata": {
        "id": "gPr5hqIhcCzq"
      },
      "outputs": [],
      "source": [
        "model = CalculatorLSTM(vocab_size=vocab_size, embedding_dim=100, hidden_dim=128, output_dim=1).to(device)\n",
        "criterion = nn.MSELoss()\n",
        "optimizer = torch.optim.Adam(model.parameters(), lr=0.001)"
      ]
    },
    {
      "cell_type": "code",
      "execution_count": null,
      "metadata": {
        "colab": {
          "base_uri": "https://localhost:8080/"
        },
        "id": "NNw6sx-3cFbJ",
        "outputId": "cdb294bd-cd10-4f49-a022-226ec7a65559"
      },
      "outputs": [
        {
          "name": "stdout",
          "output_type": "stream",
          "text": [
            "Epoch 1/100, Loss: 393129492480.0\n",
            "Epoch 2/100, Loss: 393129721856.0\n",
            "Epoch 3/100, Loss: 393129918464.0\n",
            "Epoch 4/100, Loss: 393130147840.0\n",
            "Epoch 5/100, Loss: 393130278912.0\n",
            "Epoch 6/100, Loss: 393130475520.0\n",
            "Epoch 7/100, Loss: 393130541056.0\n",
            "Epoch 8/100, Loss: 393130606592.0\n",
            "Epoch 9/100, Loss: 393130541056.0\n",
            "Epoch 10/100, Loss: 393130606592.0\n",
            "Epoch 11/100, Loss: 393130672128.0\n",
            "Epoch 12/100, Loss: 393130737664.0\n",
            "Epoch 13/100, Loss: 393130475520.0\n",
            "Epoch 14/100, Loss: 393130508288.0\n",
            "Epoch 15/100, Loss: 393129426944.0\n",
            "Epoch 16/100, Loss: 393126150144.0\n",
            "Epoch 17/100, Loss: 393123463168.0\n",
            "Epoch 18/100, Loss: 393120645120.0\n",
            "Epoch 19/100, Loss: 393116844032.0\n",
            "Epoch 20/100, Loss: 393114714112.0\n",
            "Epoch 21/100, Loss: 393130180608.0\n",
            "Epoch 22/100, Loss: 393116975104.0\n",
            "Epoch 23/100, Loss: 393129066496.0\n",
            "Epoch 24/100, Loss: 393107210240.0\n",
            "Epoch 25/100, Loss: 393115664384.0\n",
            "Epoch 26/100, Loss: 393141026816.0\n",
            "Epoch 27/100, Loss: 393129689088.0\n",
            "Epoch 28/100, Loss: 393100165120.0\n",
            "Epoch 29/100, Loss: 393127100416.0\n",
            "Epoch 30/100, Loss: 393092202496.0\n",
            "Epoch 31/100, Loss: 393128607744.0\n",
            "Epoch 32/100, Loss: 393086926848.0\n",
            "Epoch 33/100, Loss: 393084370944.0\n",
            "Epoch 34/100, Loss: 393081257984.0\n",
            "Epoch 35/100, Loss: 393128574976.0\n",
            "Epoch 36/100, Loss: 393129623552.0\n",
            "Epoch 37/100, Loss: 393129459712.0\n",
            "Epoch 38/100, Loss: 393129361408.0\n",
            "Epoch 39/100, Loss: 393133555712.0\n",
            "Epoch 40/100, Loss: 393084862464.0\n",
            "Epoch 41/100, Loss: 393129295872.0\n",
            "Epoch 42/100, Loss: 393129754624.0\n",
            "Epoch 43/100, Loss: 393129132032.0\n",
            "Epoch 44/100, Loss: 393129951232.0\n",
            "Epoch 45/100, Loss: 393135521792.0\n",
            "Epoch 46/100, Loss: 393142206464.0\n",
            "Epoch 47/100, Loss: 393157214208.0\n",
            "Epoch 48/100, Loss: 393138208768.0\n",
            "Epoch 49/100, Loss: 393138503680.0\n",
            "Epoch 50/100, Loss: 393139191808.0\n",
            "Epoch 51/100, Loss: 393138339840.0\n",
            "Epoch 52/100, Loss: 393139585024.0\n",
            "Epoch 53/100, Loss: 393139781632.0\n",
            "Epoch 54/100, Loss: 393129099264.0\n",
            "Epoch 55/100, Loss: 393128345600.0\n",
            "Epoch 56/100, Loss: 393128247296.0\n",
            "Epoch 57/100, Loss: 393128574976.0\n",
            "Epoch 58/100, Loss: 393128411136.0\n",
            "Epoch 59/100, Loss: 393128443904.0\n",
            "Epoch 60/100, Loss: 393128509440.0\n",
            "Epoch 61/100, Loss: 393130213376.0\n",
            "Epoch 62/100, Loss: 393218293760.0\n",
            "Epoch 63/100, Loss: 393143517184.0\n",
            "Epoch 64/100, Loss: 393129295872.0\n",
            "Epoch 65/100, Loss: 393138110464.0\n",
            "Epoch 66/100, Loss: 393139322880.0\n",
            "Epoch 67/100, Loss: 393129426944.0\n",
            "Epoch 68/100, Loss: 393138143232.0\n",
            "Epoch 69/100, Loss: 393144664064.0\n",
            "Epoch 70/100, Loss: 393145286656.0\n",
            "Epoch 71/100, Loss: 393139912704.0\n",
            "Epoch 72/100, Loss: 393141682176.0\n",
            "Epoch 73/100, Loss: 393128804352.0\n",
            "Epoch 74/100, Loss: 393128280064.0\n",
            "Epoch 75/100, Loss: 393118875648.0\n",
            "Epoch 76/100, Loss: 393127657472.0\n",
            "Epoch 77/100, Loss: 393126772736.0\n",
            "Epoch 78/100, Loss: 393125756928.0\n",
            "Epoch 79/100, Loss: 393128214528.0\n",
            "Epoch 80/100, Loss: 393126969344.0\n",
            "Epoch 81/100, Loss: 393127854080.0\n",
            "Epoch 82/100, Loss: 393127919616.0\n",
            "Epoch 83/100, Loss: 393128181760.0\n",
            "Epoch 84/100, Loss: 393129328640.0\n",
            "Epoch 85/100, Loss: 393135161344.0\n",
            "Epoch 86/100, Loss: 393135325184.0\n",
            "Epoch 87/100, Loss: 393208692736.0\n",
            "Epoch 88/100, Loss: 393127854080.0\n",
            "Epoch 89/100, Loss: 393148825600.0\n",
            "Epoch 90/100, Loss: 393135390720.0\n",
            "Epoch 91/100, Loss: 393127297024.0\n",
            "Epoch 92/100, Loss: 393127395328.0\n",
            "Epoch 93/100, Loss: 393127493632.0\n",
            "Epoch 94/100, Loss: 393127231488.0\n",
            "Epoch 95/100, Loss: 393127395328.0\n",
            "Epoch 96/100, Loss: 393127624704.0\n",
            "Epoch 97/100, Loss: 393128640512.0\n",
            "Epoch 98/100, Loss: 393127460864.0\n",
            "Epoch 99/100, Loss: 393202106368.0\n",
            "Epoch 100/100, Loss: 393177202688.0\n"
          ]
        }
      ],
      "source": [
        "batch_size = 32\n",
        "num_epochs = 100\n",
        "\n",
        "for epoch in range(num_epochs):\n",
        "    for i in range(0, len(X_train), batch_size):\n",
        "        inputs = X_train_tensor[i:i+batch_size]\n",
        "        targets = y_train_tensor[i:i+batch_size]\n",
        "\n",
        "        outputs = model(inputs)\n",
        "        loss = criterion(outputs.squeeze(), targets)\n",
        "\n",
        "        optimizer.zero_grad()\n",
        "        loss.backward()\n",
        "        optimizer.step()\n",
        "\n",
        "    print(f'Epoch {epoch+1}/{num_epochs}, Loss: {loss.item()}')"
      ]
    },
    {
      "cell_type": "markdown",
      "source": [
        "What the fuck this loss"
      ],
      "metadata": {
        "id": "y4jx5dAtvNEo"
      }
    },
    {
      "cell_type": "code",
      "execution_count": null,
      "metadata": {
        "colab": {
          "base_uri": "https://localhost:8080/",
          "height": 408
        },
        "id": "K63VpC0ucHhY",
        "outputId": "0092689b-f1ef-4144-b984-b07118f40ed6"
      },
      "outputs": [
        {
          "ename": "OutOfMemoryError",
          "evalue": "CUDA out of memory. Tried to allocate 21.07 GiB. GPU 0 has a total capacity of 14.75 GiB of which 11.03 GiB is free. Process 38658 has 3.71 GiB memory in use. Of the allocated memory 3.37 GiB is allocated by PyTorch, and 212.31 MiB is reserved by PyTorch but unallocated. If reserved but unallocated memory is large try setting PYTORCH_CUDA_ALLOC_CONF=expandable_segments:True to avoid fragmentation.  See documentation for Memory Management  (https://pytorch.org/docs/stable/notes/cuda.html#environment-variables)",
          "output_type": "error",
          "traceback": [
            "\u001b[0;31m---------------------------------------------------------------------------\u001b[0m",
            "\u001b[0;31mOutOfMemoryError\u001b[0m                          Traceback (most recent call last)",
            "\u001b[0;32m<ipython-input-11-6e7141b2f713>\u001b[0m in \u001b[0;36m<cell line: 2>\u001b[0;34m()\u001b[0m\n\u001b[1;32m      1\u001b[0m \u001b[0mmodel\u001b[0m\u001b[0;34m.\u001b[0m\u001b[0meval\u001b[0m\u001b[0;34m(\u001b[0m\u001b[0;34m)\u001b[0m\u001b[0;34m\u001b[0m\u001b[0;34m\u001b[0m\u001b[0m\n\u001b[1;32m      2\u001b[0m \u001b[0;32mwith\u001b[0m \u001b[0mtorch\u001b[0m\u001b[0;34m.\u001b[0m\u001b[0mno_grad\u001b[0m\u001b[0;34m(\u001b[0m\u001b[0;34m)\u001b[0m\u001b[0;34m:\u001b[0m\u001b[0;34m\u001b[0m\u001b[0;34m\u001b[0m\u001b[0m\n\u001b[0;32m----> 3\u001b[0;31m     \u001b[0mval_outputs\u001b[0m \u001b[0;34m=\u001b[0m \u001b[0mmodel\u001b[0m\u001b[0;34m(\u001b[0m\u001b[0mX_val_tensor\u001b[0m\u001b[0;34m.\u001b[0m\u001b[0mto\u001b[0m\u001b[0;34m(\u001b[0m\u001b[0mdevice\u001b[0m\u001b[0;34m)\u001b[0m\u001b[0;34m)\u001b[0m\u001b[0;34m\u001b[0m\u001b[0;34m\u001b[0m\u001b[0m\n\u001b[0m\u001b[1;32m      4\u001b[0m     \u001b[0mval_loss\u001b[0m \u001b[0;34m=\u001b[0m \u001b[0mcriterion\u001b[0m\u001b[0;34m(\u001b[0m\u001b[0mval_outputs\u001b[0m\u001b[0;34m.\u001b[0m\u001b[0msqueeze\u001b[0m\u001b[0;34m(\u001b[0m\u001b[0;34m)\u001b[0m\u001b[0;34m,\u001b[0m \u001b[0my_val_tensor\u001b[0m\u001b[0;34m.\u001b[0m\u001b[0mto\u001b[0m\u001b[0;34m(\u001b[0m\u001b[0mdevice\u001b[0m\u001b[0;34m)\u001b[0m\u001b[0;34m)\u001b[0m\u001b[0;34m\u001b[0m\u001b[0;34m\u001b[0m\u001b[0m\n\u001b[1;32m      5\u001b[0m     \u001b[0mprint\u001b[0m\u001b[0;34m(\u001b[0m\u001b[0;34mf'Validation Loss: {val_loss.item()}'\u001b[0m\u001b[0;34m)\u001b[0m\u001b[0;34m\u001b[0m\u001b[0;34m\u001b[0m\u001b[0m\n",
            "\u001b[0;32m/usr/local/lib/python3.10/dist-packages/torch/nn/modules/module.py\u001b[0m in \u001b[0;36m_wrapped_call_impl\u001b[0;34m(self, *args, **kwargs)\u001b[0m\n\u001b[1;32m   1734\u001b[0m             \u001b[0;32mreturn\u001b[0m \u001b[0mself\u001b[0m\u001b[0;34m.\u001b[0m\u001b[0m_compiled_call_impl\u001b[0m\u001b[0;34m(\u001b[0m\u001b[0;34m*\u001b[0m\u001b[0margs\u001b[0m\u001b[0;34m,\u001b[0m \u001b[0;34m**\u001b[0m\u001b[0mkwargs\u001b[0m\u001b[0;34m)\u001b[0m  \u001b[0;31m# type: ignore[misc]\u001b[0m\u001b[0;34m\u001b[0m\u001b[0;34m\u001b[0m\u001b[0m\n\u001b[1;32m   1735\u001b[0m         \u001b[0;32melse\u001b[0m\u001b[0;34m:\u001b[0m\u001b[0;34m\u001b[0m\u001b[0;34m\u001b[0m\u001b[0m\n\u001b[0;32m-> 1736\u001b[0;31m             \u001b[0;32mreturn\u001b[0m \u001b[0mself\u001b[0m\u001b[0;34m.\u001b[0m\u001b[0m_call_impl\u001b[0m\u001b[0;34m(\u001b[0m\u001b[0;34m*\u001b[0m\u001b[0margs\u001b[0m\u001b[0;34m,\u001b[0m \u001b[0;34m**\u001b[0m\u001b[0mkwargs\u001b[0m\u001b[0;34m)\u001b[0m\u001b[0;34m\u001b[0m\u001b[0;34m\u001b[0m\u001b[0m\n\u001b[0m\u001b[1;32m   1737\u001b[0m \u001b[0;34m\u001b[0m\u001b[0m\n\u001b[1;32m   1738\u001b[0m     \u001b[0;31m# torchrec tests the code consistency with the following code\u001b[0m\u001b[0;34m\u001b[0m\u001b[0;34m\u001b[0m\u001b[0m\n",
            "\u001b[0;32m/usr/local/lib/python3.10/dist-packages/torch/nn/modules/module.py\u001b[0m in \u001b[0;36m_call_impl\u001b[0;34m(self, *args, **kwargs)\u001b[0m\n\u001b[1;32m   1745\u001b[0m                 \u001b[0;32mor\u001b[0m \u001b[0m_global_backward_pre_hooks\u001b[0m \u001b[0;32mor\u001b[0m \u001b[0m_global_backward_hooks\u001b[0m\u001b[0;34m\u001b[0m\u001b[0;34m\u001b[0m\u001b[0m\n\u001b[1;32m   1746\u001b[0m                 or _global_forward_hooks or _global_forward_pre_hooks):\n\u001b[0;32m-> 1747\u001b[0;31m             \u001b[0;32mreturn\u001b[0m \u001b[0mforward_call\u001b[0m\u001b[0;34m(\u001b[0m\u001b[0;34m*\u001b[0m\u001b[0margs\u001b[0m\u001b[0;34m,\u001b[0m \u001b[0;34m**\u001b[0m\u001b[0mkwargs\u001b[0m\u001b[0;34m)\u001b[0m\u001b[0;34m\u001b[0m\u001b[0;34m\u001b[0m\u001b[0m\n\u001b[0m\u001b[1;32m   1748\u001b[0m \u001b[0;34m\u001b[0m\u001b[0m\n\u001b[1;32m   1749\u001b[0m         \u001b[0mresult\u001b[0m \u001b[0;34m=\u001b[0m \u001b[0;32mNone\u001b[0m\u001b[0;34m\u001b[0m\u001b[0;34m\u001b[0m\u001b[0m\n",
            "\u001b[0;32m<ipython-input-6-7383e730b284>\u001b[0m in \u001b[0;36mforward\u001b[0;34m(self, x)\u001b[0m\n\u001b[1;32m     11\u001b[0m     \u001b[0;32mdef\u001b[0m \u001b[0mforward\u001b[0m\u001b[0;34m(\u001b[0m\u001b[0mself\u001b[0m\u001b[0;34m,\u001b[0m \u001b[0mx\u001b[0m\u001b[0;34m)\u001b[0m\u001b[0;34m:\u001b[0m\u001b[0;34m\u001b[0m\u001b[0;34m\u001b[0m\u001b[0m\n\u001b[1;32m     12\u001b[0m         \u001b[0membedded\u001b[0m \u001b[0;34m=\u001b[0m \u001b[0mself\u001b[0m\u001b[0;34m.\u001b[0m\u001b[0membedding\u001b[0m\u001b[0;34m(\u001b[0m\u001b[0mx\u001b[0m\u001b[0;34m)\u001b[0m\u001b[0;34m\u001b[0m\u001b[0;34m\u001b[0m\u001b[0m\n\u001b[0;32m---> 13\u001b[0;31m         \u001b[0mlstm_out\u001b[0m\u001b[0;34m,\u001b[0m \u001b[0m_\u001b[0m \u001b[0;34m=\u001b[0m \u001b[0mself\u001b[0m\u001b[0;34m.\u001b[0m\u001b[0mlstm\u001b[0m\u001b[0;34m(\u001b[0m\u001b[0membedded\u001b[0m\u001b[0;34m)\u001b[0m\u001b[0;34m\u001b[0m\u001b[0;34m\u001b[0m\u001b[0m\n\u001b[0m\u001b[1;32m     14\u001b[0m         \u001b[0moutput\u001b[0m \u001b[0;34m=\u001b[0m \u001b[0mself\u001b[0m\u001b[0;34m.\u001b[0m\u001b[0mfc\u001b[0m\u001b[0;34m(\u001b[0m\u001b[0mlstm_out\u001b[0m\u001b[0;34m[\u001b[0m\u001b[0;34m:\u001b[0m\u001b[0;34m,\u001b[0m \u001b[0;34m-\u001b[0m\u001b[0;36m1\u001b[0m\u001b[0;34m,\u001b[0m \u001b[0;34m:\u001b[0m\u001b[0;34m]\u001b[0m\u001b[0;34m)\u001b[0m  \u001b[0;31m# Take the last time step\u001b[0m\u001b[0;34m\u001b[0m\u001b[0;34m\u001b[0m\u001b[0m\n\u001b[1;32m     15\u001b[0m         \u001b[0;32mreturn\u001b[0m \u001b[0moutput\u001b[0m\u001b[0;34m\u001b[0m\u001b[0;34m\u001b[0m\u001b[0m\n",
            "\u001b[0;32m/usr/local/lib/python3.10/dist-packages/torch/nn/modules/module.py\u001b[0m in \u001b[0;36m_wrapped_call_impl\u001b[0;34m(self, *args, **kwargs)\u001b[0m\n\u001b[1;32m   1734\u001b[0m             \u001b[0;32mreturn\u001b[0m \u001b[0mself\u001b[0m\u001b[0;34m.\u001b[0m\u001b[0m_compiled_call_impl\u001b[0m\u001b[0;34m(\u001b[0m\u001b[0;34m*\u001b[0m\u001b[0margs\u001b[0m\u001b[0;34m,\u001b[0m \u001b[0;34m**\u001b[0m\u001b[0mkwargs\u001b[0m\u001b[0;34m)\u001b[0m  \u001b[0;31m# type: ignore[misc]\u001b[0m\u001b[0;34m\u001b[0m\u001b[0;34m\u001b[0m\u001b[0m\n\u001b[1;32m   1735\u001b[0m         \u001b[0;32melse\u001b[0m\u001b[0;34m:\u001b[0m\u001b[0;34m\u001b[0m\u001b[0;34m\u001b[0m\u001b[0m\n\u001b[0;32m-> 1736\u001b[0;31m             \u001b[0;32mreturn\u001b[0m \u001b[0mself\u001b[0m\u001b[0;34m.\u001b[0m\u001b[0m_call_impl\u001b[0m\u001b[0;34m(\u001b[0m\u001b[0;34m*\u001b[0m\u001b[0margs\u001b[0m\u001b[0;34m,\u001b[0m \u001b[0;34m**\u001b[0m\u001b[0mkwargs\u001b[0m\u001b[0;34m)\u001b[0m\u001b[0;34m\u001b[0m\u001b[0;34m\u001b[0m\u001b[0m\n\u001b[0m\u001b[1;32m   1737\u001b[0m \u001b[0;34m\u001b[0m\u001b[0m\n\u001b[1;32m   1738\u001b[0m     \u001b[0;31m# torchrec tests the code consistency with the following code\u001b[0m\u001b[0;34m\u001b[0m\u001b[0;34m\u001b[0m\u001b[0m\n",
            "\u001b[0;32m/usr/local/lib/python3.10/dist-packages/torch/nn/modules/module.py\u001b[0m in \u001b[0;36m_call_impl\u001b[0;34m(self, *args, **kwargs)\u001b[0m\n\u001b[1;32m   1745\u001b[0m                 \u001b[0;32mor\u001b[0m \u001b[0m_global_backward_pre_hooks\u001b[0m \u001b[0;32mor\u001b[0m \u001b[0m_global_backward_hooks\u001b[0m\u001b[0;34m\u001b[0m\u001b[0;34m\u001b[0m\u001b[0m\n\u001b[1;32m   1746\u001b[0m                 or _global_forward_hooks or _global_forward_pre_hooks):\n\u001b[0;32m-> 1747\u001b[0;31m             \u001b[0;32mreturn\u001b[0m \u001b[0mforward_call\u001b[0m\u001b[0;34m(\u001b[0m\u001b[0;34m*\u001b[0m\u001b[0margs\u001b[0m\u001b[0;34m,\u001b[0m \u001b[0;34m**\u001b[0m\u001b[0mkwargs\u001b[0m\u001b[0;34m)\u001b[0m\u001b[0;34m\u001b[0m\u001b[0;34m\u001b[0m\u001b[0m\n\u001b[0m\u001b[1;32m   1748\u001b[0m \u001b[0;34m\u001b[0m\u001b[0m\n\u001b[1;32m   1749\u001b[0m         \u001b[0mresult\u001b[0m \u001b[0;34m=\u001b[0m \u001b[0;32mNone\u001b[0m\u001b[0;34m\u001b[0m\u001b[0;34m\u001b[0m\u001b[0m\n",
            "\u001b[0;32m/usr/local/lib/python3.10/dist-packages/torch/nn/modules/rnn.py\u001b[0m in \u001b[0;36mforward\u001b[0;34m(self, input, hx)\u001b[0m\n\u001b[1;32m   1121\u001b[0m \u001b[0;34m\u001b[0m\u001b[0m\n\u001b[1;32m   1122\u001b[0m         \u001b[0;32mif\u001b[0m \u001b[0mbatch_sizes\u001b[0m \u001b[0;32mis\u001b[0m \u001b[0;32mNone\u001b[0m\u001b[0;34m:\u001b[0m\u001b[0;34m\u001b[0m\u001b[0;34m\u001b[0m\u001b[0m\n\u001b[0;32m-> 1123\u001b[0;31m             result = _VF.lstm(\n\u001b[0m\u001b[1;32m   1124\u001b[0m                 \u001b[0minput\u001b[0m\u001b[0;34m,\u001b[0m\u001b[0;34m\u001b[0m\u001b[0;34m\u001b[0m\u001b[0m\n\u001b[1;32m   1125\u001b[0m                 \u001b[0mhx\u001b[0m\u001b[0;34m,\u001b[0m\u001b[0;34m\u001b[0m\u001b[0;34m\u001b[0m\u001b[0m\n",
            "\u001b[0;31mOutOfMemoryError\u001b[0m: CUDA out of memory. Tried to allocate 21.07 GiB. GPU 0 has a total capacity of 14.75 GiB of which 11.03 GiB is free. Process 38658 has 3.71 GiB memory in use. Of the allocated memory 3.37 GiB is allocated by PyTorch, and 212.31 MiB is reserved by PyTorch but unallocated. If reserved but unallocated memory is large try setting PYTORCH_CUDA_ALLOC_CONF=expandable_segments:True to avoid fragmentation.  See documentation for Memory Management  (https://pytorch.org/docs/stable/notes/cuda.html#environment-variables)"
          ]
        }
      ],
      "source": [
        "model.eval()\n",
        "with torch.no_grad():\n",
        "    val_outputs = model(X_val_tensor.to(device))\n",
        "    val_loss = criterion(val_outputs.squeeze(), y_val_tensor.to(device))\n",
        "    print(f'Validation Loss: {val_loss.item()}')"
      ]
    },
    {
      "cell_type": "code",
      "execution_count": null,
      "metadata": {
        "colab": {
          "background_save": true,
          "base_uri": "https://localhost:8080/"
        },
        "id": "bv_3gZcmcMTa",
        "outputId": "6f5f95ac-c82c-4936-9b19-849ac93725a4"
      },
      "outputs": [
        {
          "name": "stdout",
          "output_type": "stream",
          "text": [
            "Expression: 2\n",
            "Predicted Result: -622.423583984375\n",
            "Actual Result: 2\n"
          ]
        }
      ],
      "source": [
        "def evaluate_expression(expr):\n",
        "    tokens = tokenize(expr)\n",
        "    padded = pad_sequence(tokens, max_seq_length)\n",
        "    tensor = torch.tensor([padded], dtype=torch.long).to(device)\n",
        "    model.eval()\n",
        "    with torch.no_grad():\n",
        "        output = model(tensor)\n",
        "        result = output.item()\n",
        "        print(f'Expression: {expr}')\n",
        "        print(f'Predicted Result: {result}')\n",
        "        print(f'Actual Result: {eval(expr)}')\n",
        "\n",
        "# Test\n",
        "test_expr = \"3 + 5 * 2 - 4 / 2\"\n",
        "evaluate_expression(test_expr)"
      ]
    },
    {
      "cell_type": "code",
      "execution_count": null,
      "metadata": {
        "id": "5qj-BvfJcOE6"
      },
      "outputs": [],
      "source": []
    }
  ],
  "metadata": {
    "accelerator": "GPU",
    "colab": {
      "gpuType": "T4",
      "provenance": []
    },
    "kernelspec": {
      "display_name": "Python 3",
      "name": "python3"
    },
    "language_info": {
      "name": "python"
    }
  },
  "nbformat": 4,
  "nbformat_minor": 0
}